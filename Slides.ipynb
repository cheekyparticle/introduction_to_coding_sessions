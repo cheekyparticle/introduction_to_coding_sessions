{
 "cells": [
  {
   "cell_type": "markdown",
   "metadata": {
    "slideshow": {
     "slide_type": "slide"
    }
   },
   "source": [
    "# DCAD Introduction to Coding\n",
    "## Session 2: Using Python"
   ]
  },
  {
   "cell_type": "markdown",
   "metadata": {
    "slideshow": {
     "slide_type": "slide"
    }
   },
   "source": [
    "# Python is a computing language\n",
    "\n",
    "- Python was designed by Guido Van Rossum, 1991.\n",
    "- Continuous development and a very large community. \n",
    "- User friendly but still very versitile.\n",
    "- Extensive standard library. \n",
    "- Open source! "
   ]
  },
  {
   "cell_type": "markdown",
   "metadata": {
    "slideshow": {
     "slide_type": "subslide"
    }
   },
   "source": [
    "# Using an GUI\n",
    "\n",
    "- In this session we're going to be coding using a Graphical User Interface (GUI) in your browser. \n",
    "- All you need to do is go to [trinket.io](https://trinket.io) and quickly make a free account. \n",
    "- This will allow you to make free account\n",
    "\n",
    "![title](trinket_homepg.png)"
   ]
  },
  {
   "cell_type": "markdown",
   "metadata": {
    "slideshow": {
     "slide_type": "subslide"
    }
   },
   "source": [
    "# Using trinket\n",
    "- In trinket, your projects are called 'trinkets'.\n",
    "- These are just little python files that you can run through the browser. \n",
    "- Open your first one, in python, so you have something that looks like this. \n",
    "\n",
    "![title](first_project_page.png)"
   ]
  },
  {
   "cell_type": "markdown",
   "metadata": {
    "slideshow": {
     "slide_type": "subslide"
    }
   },
   "source": [
    "# Your first code\n",
    "\n",
    "- Click on the left panel and write the following line \n",
    "\n",
    "```python \n",
    "print \"Hello, World!\"\n",
    "```\n",
    "\n",
    "- and press the run icon at the top of the window. \n",
    "- Your message should appear in the panel on the right. \n",
    "- This is your first python code. "
   ]
  },
  {
   "cell_type": "markdown",
   "metadata": {
    "slideshow": {
     "slide_type": "subslide"
    }
   },
   "source": [
    "# Break down of the Hello World\n",
    "\n",
    "- Lets talk about what just happened. \n",
    "```python \n",
    "print \n",
    "``` \n",
    "- is a function which takes a string data type as its input or argument. \n",
    "- Here the string is just whatever is in the quotation marks."
   ]
  },
  {
   "cell_type": "markdown",
   "metadata": {
    "slideshow": {
     "slide_type": "subslide"
    }
   },
   "source": [
    "# Variables in python\n",
    "\n",
    "- When introducing the string, I described it as a data type. In python there are a few diferent data types. \n",
    "\n",
    "| Data type| Description |\n",
    "|------------------|----------------------------|\n",
    "|   Boolean  | This takes values True or False |\n",
    "|   String   | Anything in quotation marks     |\n",
    "|   Integer  | positive or negative numbers without decimals|\n",
    "|   Double   | Positive or negative numbers with decimals|\n",
    "\n",
    "- Each data type requires different amounts of memory to store the information. "
   ]
  },
  {
   "cell_type": "markdown",
   "metadata": {
    "slideshow": {
     "slide_type": "subslide"
    }
   },
   "source": [
    "# Basic Operations\n",
    "\n",
    "- In python, there are some basic operations that you can do to all these data types. They are very similar to basic mathematics. \n",
    "\n",
    "- \"+\" to add \n",
    "- \"-\" to subtract\n",
    "- \"*\" to multiply\n",
    "- \"/\" to divide "
   ]
  },
  {
   "cell_type": "markdown",
   "metadata": {
    "slideshow": {
     "slide_type": "subslide"
    }
   },
   "source": [
    "# Play around with data types and operations\n",
    "\n",
    "- Just explore what happens when you combine data types and operators. \n",
    "- For example, \n",
    "```python\n",
    "string = \"silly\"\n",
    "print 5*string\n",
    ">>> 'sillysillysillysillysilly'\n",
    "```\n",
    "\n"
   ]
  },
  {
   "cell_type": "markdown",
   "metadata": {
    "slideshow": {
     "slide_type": "subslide"
    }
   },
   "source": [
    "# Question\n",
    "\n",
    " "
   ]
  },
  {
   "cell_type": "markdown",
   "metadata": {
    "slideshow": {
     "slide_type": "slide"
    }
   },
   "source": [
    "# Converting Data Types and String Formating\n",
    "\n",
    "- It's easy to change one data type into another. Use int(x), float(x), str(x), bool(x). \n",
    "\n",
    "- For example \n",
    "\n",
    "```python\n",
    "a = \"10\"\n",
    "print 2*a\n",
    ">>> '1010'\n",
    "print 2*float(a)\n",
    ">>> 20.0\n",
    "```\n",
    "\n",
    "- You may need to use this if you want to print something in a specific format. \n",
    "\n",
    "```python \n",
    "g = 7\n",
    "br = \"1\"\n",
    "a= \"There's no shame in loosing %i:%i\"%(int(br), g)\n",
    "b= \"On the other hand, a %i:%s win is epic\"%(g,br)\n",
    "print a\n",
    "print b\n",
    "```"
   ]
  },
  {
   "cell_type": "markdown",
   "metadata": {
    "slideshow": {
     "slide_type": "subslide"
    }
   },
   "source": [
    "# Functions and indentation\n",
    "\n",
    "- The only thing with python's syntax is indentation. \n",
    "- This important when writing functions and loops. \n",
    "- Functions are predefined instructions to manipulate input in a certain way. \n",
    "- To start a function you have to include ```def``` the name of the function, it's arguments in brackets. A colon, and then an indent. \n",
    "- For example, \n",
    "\n",
    "```python \n",
    "def pwr(x, p):\n",
    "    temp = x**p\n",
    "    return temp\n",
    "```"
   ]
  },
  {
   "cell_type": "markdown",
   "metadata": {
    "slideshow": {
     "slide_type": "subslide"
    }
   },
   "source": [
    "# Lists \n",
    "\n",
    "- python lists are containers of arbitrary variables. \n",
    "```python \n",
    "L=[0,1,2,3,4,5,6,7,8,9]\n",
    "```\n",
    "- The entries here show how lists are numbered in python. \n",
    "\n",
    "```python \n",
    "L[8]\n",
    ">>> 8\n",
    "``` \n",
    "- Here ```L[8]``` calls the 9th entry in the list"
   ]
  },
  {
   "cell_type": "markdown",
   "metadata": {
    "slideshow": {
     "slide_type": "subslide"
    }
   },
   "source": [
    "# Loops Over Lists\n",
    "\n",
    "- You can loop over the entries in the list.\n",
    "```python \n",
    "for ITEM in L:\n",
    "    print ITEM\n",
    "```\n",
    "- This is a useful way to apply functions on lists\n",
    "\n",
    "```python\n",
    "L2 = []\n",
    "for i in L:\n",
    "       L2.append(pwr(i,2))\n",
    "    \n",
    "L3 = [pwr(i,2) for i in L]\n",
    "\n",
    "L4 = map(lambda x:pwr(x,2),L)\n",
    "```\n",
    "\n",
    "- These are three different methods for the same process"
   ]
  },
  {
   "cell_type": "markdown",
   "metadata": {
    "slideshow": {
     "slide_type": "subslide"
    }
   },
   "source": [
    "# If Statements\n",
    "\n",
    "- An if statement is also one of the building blocks of programming. \n",
    "- In python you perform it in the following way. \n",
    "\n",
    "```python \n",
    "if EXPRESSION:\n",
    "    Do this\n",
    "else:\n",
    "    Do that\n",
    "```\n",
    "\n",
    "- Example \n",
    "\n",
    "```python\n",
    "N_odd = 0 \n",
    "N_even = 0 \n",
    "for i in xrange(-14,12,3):\n",
    "    if i%2 == 0:\n",
    "        N_even+=1\n",
    "    else:\n",
    "        N_odd+=1\n",
    "```"
   ]
  },
  {
   "cell_type": "markdown",
   "metadata": {
    "slideshow": {
     "slide_type": "subslide"
    }
   },
   "source": [
    "# Question\n",
    "\n",
    "- See if you can write a code that tells you how many prime numbers there are between 1 to 1000. \n",
    "- Start in a similar way to the previous example, remember ```%``` is the mathmatical operation mod.\n",
    "- For ```n%m```, the output gives 0 if n is divisible by m.  "
   ]
  },
  {
   "cell_type": "markdown",
   "metadata": {
    "slideshow": {
     "slide_type": "slide"
    }
   },
   "source": [
    "# User Input\n",
    "- python also allows to take input from the command line. \n",
    "- In your trinket, your can write a code that asks a question of the user. \n",
    "- For example \n",
    "```python \n",
    "text = raw_input(\"What is your name?\")\n",
    "print \"Is \" +text+\" even a name?\" \n",
    "```"
   ]
  },
  {
   "cell_type": "markdown",
   "metadata": {
    "slideshow": {
     "slide_type": "subslide"
    }
   },
   "source": [
    "# While loops\n",
    "\n",
    "- While loops are a bit like for loops, but they basically keep going through the same instructions until the while expression is satisfied.\n",
    "\n",
    "- Here's an example\n",
    "\n",
    "```python\n",
    "text=raw_input(\"What's your name\")\n",
    "\n",
    "while text != \"Andrew\":\n",
    "  \n",
    "  print text + \" is a stupid name, that can't be right\"\n",
    "  text=raw_input(\"What's your name\")\n",
    "  \n",
    "print \"Hi \" + text +\" I like your name.\"\n",
    "```\n",
    "\n",
    "- Be cafeful with while loops! You can easily write a program that will just continue to run indefinitely. \n",
    "\n",
    "- Luckily you can always just press the stop button in your trinket. \n"
   ]
  },
  {
   "cell_type": "markdown",
   "metadata": {
    "slideshow": {
     "slide_type": "subslide"
    }
   },
   "source": [
    "# Storing information in a dictionary\n",
    "\n",
    "- If you wanted to store some information that your code will obtain you can store it in what's called a dictionary. \n",
    "\n",
    "- A dictionary is an object which maps values to 'keys', which describe what the value is of. \n",
    "\n",
    "- For example, \n",
    "```python\n",
    "dict = {'Name' : 'Andrew', 'Age': 26, 'Height (cm)': 180}\n",
    "```\n",
    "- Later to find out the value of 'Name' in dict, you write \n",
    "```python \n",
    "print \"dict['Name':]\", dict['Name']\n",
    "```\n"
   ]
  },
  {
   "cell_type": "markdown",
   "metadata": {
    "slideshow": {
     "slide_type": "subslide"
    }
   },
   "source": [
    "# Making a basic survey\n",
    "- Write a simple program asking simple questions about the user.\n",
    "- Then store all the relevant information in a dictionary. \n",
    "- What happens to the dictionary once the program has finished? \n",
    "- How will you store multiple dictionaries? \n",
    "- Make sure you save the code you write by putting it in another file in trinket. "
   ]
  },
  {
   "cell_type": "markdown",
   "metadata": {
    "slideshow": {
     "slide_type": "subslide"
    }
   },
   "source": [
    "# Storing the results\n",
    "- In order to store the results from a survey, we'll have to learn how to write information to a file. \n",
    "- First you have to import a module, called `os`.\n",
    "- Modules are collections of additional functions that are not in the standard python library. \n",
    "- The `os` module is for reading/creating directories and files.\n",
    "- Try the following in trinket\n",
    "\n",
    "```python\n",
    "import os\n",
    "file = open(\"test.dat\", \"w\")\n",
    "file.write(\"this is a test \\n\")\n",
    "```\n",
    "- You should see a tab in your code window pop up which is called \"test.dat\", check it has printed the string that you wanted. "
   ]
  },
  {
   "cell_type": "markdown",
   "metadata": {
    "slideshow": {
     "slide_type": "subslide"
    }
   },
   "source": [
    "# Now store the results\n",
    "- Now you can store the results of any survey your code does in a file. \n",
    "- Remember the `\"w\"` in the open command, that tells the computer you are writing the script. \n",
    "- Also the `\\n` in the write statement is a command to start a new line. \n",
    "- Do a survey for 1 person and then write the results to a file. Check the file is in a format you want. \n",
    "- Make sure you close your file at the end with the ```file.close()``` statement."
   ]
  },
  {
   "cell_type": "markdown",
   "metadata": {
    "slideshow": {
     "slide_type": "subslide"
    }
   },
   "source": [
    "# Reading your results\n",
    "- It's all well and good to write the information to a file, but later you'll want to access the information in python. \n",
    "- Python reads a file line-by-line using the `open` function, but with `\"r\"` as the second argument to tell python that you want it to read the file.\n",
    "- Try the loop, \n",
    "\n",
    "```python \n",
    "for line in open(filename, \"r\"):\n",
    "    print line\n",
    "```\n",
    "- and see the output, is it the contents of your file?"
   ]
  },
  {
   "cell_type": "markdown",
   "metadata": {
    "slideshow": {
     "slide_type": "subslide"
    }
   },
   "source": [
    "# Making a dictionary again! \n",
    "\n",
    "- Write a code to read the data file and make it into a dictionary again. \n",
    "- You may want to some of the following operations. \n",
    "- Slicing: it's like calling an entry in a list, but you pick values for i to j. \n",
    "```python\n",
    "word = \"Hello World\" \n",
    "print word[1:3]\n",
    ">>> el\n",
    "```\n",
    "- strip: a method for removing characters on both ends of the string. \n",
    "```python\n",
    "word = \"Hello World\" \n",
    "print word.strip(\"d\")\n",
    ">>> Hello Worl\n",
    "```\n",
    "\n",
    "- splt: a method for splitting a string into a list, seperated by a chosen character or string. \n",
    "\n",
    "```python\n",
    "word = \"Hello World\" \n",
    "print word.split(\" \")\n",
    ">>> ['Hello', 'World']\n",
    "```\n",
    "\n",
    "- You might want to change the way you write the file in the first place to make this step a little easier. "
   ]
  },
  {
   "cell_type": "code",
   "execution_count": null,
   "metadata": {},
   "outputs": [],
   "source": []
  }
 ],
 "metadata": {
  "celltoolbar": "Slideshow",
  "kernelspec": {
   "display_name": "Python 2",
   "language": "python",
   "name": "python2"
  },
  "language_info": {
   "codemirror_mode": {
    "name": "ipython",
    "version": 2
   },
   "file_extension": ".py",
   "mimetype": "text/x-python",
   "name": "python",
   "nbconvert_exporter": "python",
   "pygments_lexer": "ipython2",
   "version": "2.7.12"
  }
 },
 "nbformat": 4,
 "nbformat_minor": 2
}
